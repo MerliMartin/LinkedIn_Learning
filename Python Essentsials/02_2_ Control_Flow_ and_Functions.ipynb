{
 "cells": [
  {
   "cell_type": "markdown",
   "id": "97151417",
   "metadata": {},
   "source": [
    "# Control Flow\n",
    "## If / Else statments"
   ]
  },
  {
   "cell_type": "code",
   "execution_count": 5,
   "id": "17c1eb62",
   "metadata": {
    "ExecuteTime": {
     "end_time": "2023-03-23T19:29:25.216231Z",
     "start_time": "2023-03-23T19:29:25.209250Z"
    }
   },
   "outputs": [
    {
     "name": "stdout",
     "output_type": "stream",
     "text": [
      "It is true!\n",
      "Always print this!\n"
     ]
    }
   ],
   "source": [
    "a = True\n",
    "if a:\n",
    "    print('It is true!')\n",
    "else:\n",
    "    print('It is False!')      \n",
    "print(\"Always print this!\")"
   ]
  },
  {
   "cell_type": "code",
   "execution_count": 7,
   "id": "e4019cd1",
   "metadata": {
    "ExecuteTime": {
     "end_time": "2023-03-23T19:31:59.937849Z",
     "start_time": "2023-03-23T19:31:59.929838Z"
    }
   },
   "outputs": [
    {
     "name": "stdout",
     "output_type": "stream",
     "text": [
      "It is True!\n",
      "Also print this!\n",
      "Both are True!\n",
      "All three are true\n",
      "Always print this!\n"
     ]
    }
   ],
   "source": [
    "a = True\n",
    "b = True\n",
    "c = True\n",
    "\n",
    "if a:\n",
    "    print('It is True!')\n",
    "    print('Also print this!')\n",
    "    if b:\n",
    "        print('Both are True!')\n",
    "        if c:\n",
    "            print('All three are true')\n",
    "else:\n",
    "    print('It is false')\n",
    "\n",
    "print('Always print this!')"
   ]
  },
  {
   "cell_type": "markdown",
   "id": "9019ccb6",
   "metadata": {},
   "source": [
    "## For Loops"
   ]
  },
  {
   "cell_type": "code",
   "execution_count": 8,
   "id": "709a9486",
   "metadata": {
    "ExecuteTime": {
     "end_time": "2023-03-23T19:32:39.903854Z",
     "start_time": "2023-03-23T19:32:39.889892Z"
    }
   },
   "outputs": [
    {
     "name": "stdout",
     "output_type": "stream",
     "text": [
      "[1, 2, 3, 4, 5]\n",
      "[1, 2, 3, 4, 5]\n",
      "[1, 2, 3, 4, 5]\n",
      "[1, 2, 3, 4, 5]\n",
      "[1, 2, 3, 4, 5]\n"
     ]
    }
   ],
   "source": [
    "a = [1,2,3,4,5]\n",
    "\n",
    "for item in a:\n",
    "    print(a)"
   ]
  },
  {
   "cell_type": "code",
   "execution_count": 9,
   "id": "9caf47d8",
   "metadata": {
    "ExecuteTime": {
     "end_time": "2023-03-23T19:32:46.798916Z",
     "start_time": "2023-03-23T19:32:46.776976Z"
    }
   },
   "outputs": [
    {
     "data": {
      "text/plain": [
       "True"
      ]
     },
     "execution_count": 9,
     "metadata": {},
     "output_type": "execute_result"
    }
   ],
   "source": [
    "4 in a "
   ]
  },
  {
   "cell_type": "markdown",
   "id": "3e71b458",
   "metadata": {},
   "source": [
    "## While loops"
   ]
  },
  {
   "cell_type": "code",
   "execution_count": 10,
   "id": "40e3bd3d",
   "metadata": {
    "ExecuteTime": {
     "end_time": "2023-03-23T19:33:45.944656Z",
     "start_time": "2023-03-23T19:33:45.929697Z"
    }
   },
   "outputs": [
    {
     "name": "stdout",
     "output_type": "stream",
     "text": [
      "0\n",
      "1\n",
      "2\n",
      "3\n",
      "4\n"
     ]
    }
   ],
   "source": [
    "a = 0\n",
    "\n",
    "while a < 5:\n",
    "    print(a)\n",
    "    a = a + 1"
   ]
  },
  {
   "cell_type": "markdown",
   "id": "d989c1d0",
   "metadata": {},
   "source": [
    "# Functions"
   ]
  },
  {
   "cell_type": "code",
   "execution_count": 11,
   "id": "02e8a97e",
   "metadata": {
    "ExecuteTime": {
     "end_time": "2023-03-23T19:34:50.883264Z",
     "start_time": "2023-03-23T19:34:50.874257Z"
    }
   },
   "outputs": [
    {
     "name": "stdout",
     "output_type": "stream",
     "text": [
      "Hello World!\n"
     ]
    }
   ],
   "source": [
    "print('Hello World!')"
   ]
  },
  {
   "cell_type": "code",
   "execution_count": 12,
   "id": "5771a5f4",
   "metadata": {
    "ExecuteTime": {
     "end_time": "2023-03-23T19:35:48.873687Z",
     "start_time": "2023-03-23T19:35:48.865673Z"
    }
   },
   "outputs": [],
   "source": [
    "def multiplyByThree(val):\n",
    "    return 3 * val"
   ]
  },
  {
   "cell_type": "code",
   "execution_count": 13,
   "id": "8145e3e6",
   "metadata": {
    "ExecuteTime": {
     "end_time": "2023-03-23T19:35:56.547466Z",
     "start_time": "2023-03-23T19:35:56.529516Z"
    }
   },
   "outputs": [
    {
     "data": {
      "text/plain": [
       "12"
      ]
     },
     "execution_count": 13,
     "metadata": {},
     "output_type": "execute_result"
    }
   ],
   "source": [
    "multiplyByThree(4)"
   ]
  },
  {
   "cell_type": "code",
   "execution_count": 17,
   "id": "bf3537d3",
   "metadata": {
    "ExecuteTime": {
     "end_time": "2023-03-23T19:36:56.564292Z",
     "start_time": "2023-03-23T19:36:56.544744Z"
    }
   },
   "outputs": [],
   "source": [
    "def multiply(val1, val2):\n",
    "    return val1 * val2"
   ]
  },
  {
   "cell_type": "code",
   "execution_count": 18,
   "id": "baf7be0d",
   "metadata": {
    "ExecuteTime": {
     "end_time": "2023-03-23T19:36:58.084807Z",
     "start_time": "2023-03-23T19:36:58.065858Z"
    }
   },
   "outputs": [
    {
     "data": {
      "text/plain": [
       "12"
      ]
     },
     "execution_count": 18,
     "metadata": {},
     "output_type": "execute_result"
    }
   ],
   "source": [
    "multiply(3,4)"
   ]
  },
  {
   "cell_type": "code",
   "execution_count": 19,
   "id": "6a84a46b",
   "metadata": {
    "ExecuteTime": {
     "end_time": "2023-03-23T19:38:29.626249Z",
     "start_time": "2023-03-23T19:38:29.609295Z"
    }
   },
   "outputs": [],
   "source": [
    "a = [1,2,3]\n",
    "\n",
    "def appendFour(myList):\n",
    "    myList.append(4)\n",
    "\n",
    "\n",
    "appendFour(a)"
   ]
  },
  {
   "cell_type": "code",
   "execution_count": 20,
   "id": "fb5e175d",
   "metadata": {
    "ExecuteTime": {
     "end_time": "2023-03-23T19:39:18.696307Z",
     "start_time": "2023-03-23T19:39:18.681349Z"
    }
   },
   "outputs": [
    {
     "name": "stdout",
     "output_type": "stream",
     "text": [
      "[1, 2, 3, 4]\n"
     ]
    }
   ],
   "source": [
    "print(a)"
   ]
  },
  {
   "cell_type": "code",
   "execution_count": null,
   "id": "018a3caa",
   "metadata": {},
   "outputs": [],
   "source": []
  }
 ],
 "metadata": {
  "kernelspec": {
   "display_name": "Python 3 (ipykernel)",
   "language": "python",
   "name": "python3"
  },
  "language_info": {
   "codemirror_mode": {
    "name": "ipython",
    "version": 3
   },
   "file_extension": ".py",
   "mimetype": "text/x-python",
   "name": "python",
   "nbconvert_exporter": "python",
   "pygments_lexer": "ipython3",
   "version": "3.10.5"
  },
  "toc": {
   "base_numbering": 1,
   "nav_menu": {},
   "number_sections": true,
   "sideBar": true,
   "skip_h1_title": false,
   "title_cell": "Table of Contents",
   "title_sidebar": "Contents",
   "toc_cell": false,
   "toc_position": {},
   "toc_section_display": true,
   "toc_window_display": false
  }
 },
 "nbformat": 4,
 "nbformat_minor": 5
}
