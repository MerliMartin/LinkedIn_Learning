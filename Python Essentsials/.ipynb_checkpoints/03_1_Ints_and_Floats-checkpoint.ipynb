{
 "cells": [
  {
   "cell_type": "markdown",
   "id": "e1686013",
   "metadata": {},
   "source": [
    "# Ints and Floats"
   ]
  },
  {
   "cell_type": "code",
   "execution_count": 1,
   "id": "9bad60e2",
   "metadata": {
    "ExecuteTime": {
     "end_time": "2023-03-23T20:20:53.598599Z",
     "start_time": "2023-03-23T20:20:53.581675Z"
    }
   },
   "outputs": [
    {
     "data": {
      "text/plain": [
       "5.0"
      ]
     },
     "execution_count": 1,
     "metadata": {},
     "output_type": "execute_result"
    }
   ],
   "source": [
    "20 / 4"
   ]
  },
  {
   "cell_type": "code",
   "execution_count": 2,
   "id": "1c24c9b4",
   "metadata": {
    "ExecuteTime": {
     "end_time": "2023-03-23T20:21:07.412896Z",
     "start_time": "2023-03-23T20:21:07.405882Z"
    }
   },
   "outputs": [
    {
     "data": {
      "text/plain": [
       "5"
      ]
     },
     "execution_count": 2,
     "metadata": {},
     "output_type": "execute_result"
    }
   ],
   "source": [
    "20 // 4"
   ]
  },
  {
   "cell_type": "code",
   "execution_count": 3,
   "id": "562f4330",
   "metadata": {
    "ExecuteTime": {
     "end_time": "2023-03-23T20:21:33.187591Z",
     "start_time": "2023-03-23T20:21:33.181573Z"
    }
   },
   "outputs": [
    {
     "data": {
      "text/plain": [
       "10.0"
      ]
     },
     "execution_count": 3,
     "metadata": {},
     "output_type": "execute_result"
    }
   ],
   "source": [
    "4 + 4 + 2.0"
   ]
  },
  {
   "cell_type": "code",
   "execution_count": 4,
   "id": "36d6b647",
   "metadata": {
    "ExecuteTime": {
     "end_time": "2023-03-23T20:21:55.018596Z",
     "start_time": "2023-03-23T20:21:55.012616Z"
    }
   },
   "outputs": [
    {
     "data": {
      "text/plain": [
       "256.0"
      ]
     },
     "execution_count": 4,
     "metadata": {},
     "output_type": "execute_result"
    }
   ],
   "source": [
    "4 ** 4.0"
   ]
  },
  {
   "cell_type": "code",
   "execution_count": 6,
   "id": "b8245273",
   "metadata": {
    "ExecuteTime": {
     "end_time": "2023-03-23T20:23:00.347480Z",
     "start_time": "2023-03-23T20:23:00.341495Z"
    }
   },
   "outputs": [
    {
     "data": {
      "text/plain": [
       "256"
      ]
     },
     "execution_count": 6,
     "metadata": {},
     "output_type": "execute_result"
    }
   ],
   "source": [
    "int(4 ** 4.0)  # casting"
   ]
  },
  {
   "cell_type": "code",
   "execution_count": 7,
   "id": "7e05ecea",
   "metadata": {
    "ExecuteTime": {
     "end_time": "2023-03-23T20:23:08.954668Z",
     "start_time": "2023-03-23T20:23:08.948652Z"
    }
   },
   "outputs": [
    {
     "data": {
      "text/plain": [
       "8"
      ]
     },
     "execution_count": 7,
     "metadata": {},
     "output_type": "execute_result"
    }
   ],
   "source": [
    "int(8.88888)"
   ]
  },
  {
   "cell_type": "code",
   "execution_count": 8,
   "id": "1d46729f",
   "metadata": {
    "ExecuteTime": {
     "end_time": "2023-03-23T20:23:16.883592Z",
     "start_time": "2023-03-23T20:23:16.869630Z"
    }
   },
   "outputs": [
    {
     "data": {
      "text/plain": [
       "7"
      ]
     },
     "execution_count": 8,
     "metadata": {},
     "output_type": "execute_result"
    }
   ],
   "source": [
    "int(14/2)"
   ]
  },
  {
   "cell_type": "code",
   "execution_count": 9,
   "id": "b91dd8c1",
   "metadata": {
    "ExecuteTime": {
     "end_time": "2023-03-23T20:23:26.526762Z",
     "start_time": "2023-03-23T20:23:26.509780Z"
    }
   },
   "outputs": [
    {
     "data": {
      "text/plain": [
       "4.67"
      ]
     },
     "execution_count": 9,
     "metadata": {},
     "output_type": "execute_result"
    }
   ],
   "source": [
    "round(14/3, 2)"
   ]
  },
  {
   "cell_type": "code",
   "execution_count": 10,
   "id": "862202d1",
   "metadata": {
    "ExecuteTime": {
     "end_time": "2023-03-23T20:23:36.044636Z",
     "start_time": "2023-03-23T20:23:36.029668Z"
    }
   },
   "outputs": [
    {
     "data": {
      "text/plain": [
       "0.19999999999999996"
      ]
     },
     "execution_count": 10,
     "metadata": {},
     "output_type": "execute_result"
    }
   ],
   "source": [
    "1.2 - 1.0"
   ]
  },
  {
   "cell_type": "code",
   "execution_count": null,
   "id": "99969c30",
   "metadata": {},
   "outputs": [],
   "source": []
  }
 ],
 "metadata": {
  "kernelspec": {
   "display_name": "Python 3 (ipykernel)",
   "language": "python",
   "name": "python3"
  },
  "language_info": {
   "codemirror_mode": {
    "name": "ipython",
    "version": 3
   },
   "file_extension": ".py",
   "mimetype": "text/x-python",
   "name": "python",
   "nbconvert_exporter": "python",
   "pygments_lexer": "ipython3",
   "version": "3.10.5"
  },
  "toc": {
   "base_numbering": 1,
   "nav_menu": {},
   "number_sections": true,
   "sideBar": true,
   "skip_h1_title": false,
   "title_cell": "Table of Contents",
   "title_sidebar": "Contents",
   "toc_cell": false,
   "toc_position": {},
   "toc_section_display": true,
   "toc_window_display": false
  }
 },
 "nbformat": 4,
 "nbformat_minor": 5
}
