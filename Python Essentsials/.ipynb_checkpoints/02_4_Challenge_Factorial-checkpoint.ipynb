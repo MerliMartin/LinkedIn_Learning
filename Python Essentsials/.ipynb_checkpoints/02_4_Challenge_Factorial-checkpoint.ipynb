{
 "cells": [
  {
   "cell_type": "markdown",
   "id": "919871b7",
   "metadata": {},
   "source": [
    "# Factorial Challenge\n",
    "\n",
    "The factorial function gives the number of possible arrangements of a set of items of lenght \"n\"\n",
    "\n",
    "For example, thre are 4! (\"four factorial\") or 24 ways to arrange four items, which can be calculated as 4 * 3 * 2 * 1\n",
    "\n",
    "5! = 5 * 4 * 3 * 2 * 1 = 120\n",
    "\n",
    "6! 6 * 5 * 4 * 3 * 2 * 1 = 720\n",
    "\n",
    "etc.\n",
    "\n",
    "In a set of 0 items (and empty set, there is only one way to arrange the items, therefore, 0! = 1\n",
    "\n",
    "For the purpose of this exercise, factorials are only defined for positive integers (including 0)"
   ]
  },
  {
   "cell_type": "code",
   "execution_count": 3,
   "id": "081351ca",
   "metadata": {
    "ExecuteTime": {
     "end_time": "2023-03-23T20:01:30.912479Z",
     "start_time": "2023-03-23T20:01:30.895441Z"
    }
   },
   "outputs": [],
   "source": [
    "# Return the value of the factorial of num if it is defined, otherwise, returns None\n",
    "def factorial(num):\n",
    "    if num == 0:\n",
    "        return 1\n",
    "    elif type(num) == int and num > 0:\n",
    "        return num * factorial(num-1)\n",
    "    else:\n",
    "        return None"
   ]
  },
  {
   "cell_type": "code",
   "execution_count": 4,
   "id": "954b7c9a",
   "metadata": {
    "ExecuteTime": {
     "end_time": "2023-03-23T20:01:32.008260Z",
     "start_time": "2023-03-23T20:01:31.990308Z"
    }
   },
   "outputs": [
    {
     "data": {
      "text/plain": [
       "120"
      ]
     },
     "execution_count": 4,
     "metadata": {},
     "output_type": "execute_result"
    }
   ],
   "source": [
    "# return 120\n",
    "factorial(5)"
   ]
  },
  {
   "cell_type": "code",
   "execution_count": 5,
   "id": "4d1d0b41",
   "metadata": {
    "ExecuteTime": {
     "end_time": "2023-03-23T20:01:33.671365Z",
     "start_time": "2023-03-23T20:01:33.654439Z"
    }
   },
   "outputs": [
    {
     "data": {
      "text/plain": [
       "720"
      ]
     },
     "execution_count": 5,
     "metadata": {},
     "output_type": "execute_result"
    }
   ],
   "source": [
    "# return 720\n",
    "factorial(6)"
   ]
  },
  {
   "cell_type": "code",
   "execution_count": 6,
   "id": "1a310d10",
   "metadata": {
    "ExecuteTime": {
     "end_time": "2023-03-23T20:01:34.602723Z",
     "start_time": "2023-03-23T20:01:34.582797Z"
    }
   },
   "outputs": [
    {
     "data": {
      "text/plain": [
       "1"
      ]
     },
     "execution_count": 6,
     "metadata": {},
     "output_type": "execute_result"
    }
   ],
   "source": [
    "# return 1\n",
    "factorial(0)"
   ]
  },
  {
   "cell_type": "code",
   "execution_count": 7,
   "id": "4e9c8e83",
   "metadata": {
    "ExecuteTime": {
     "end_time": "2023-03-23T20:01:36.247561Z",
     "start_time": "2023-03-23T20:01:36.238586Z"
    }
   },
   "outputs": [],
   "source": [
    "# return None\n",
    "factorial(1.2)"
   ]
  },
  {
   "cell_type": "code",
   "execution_count": 8,
   "id": "e3c35303",
   "metadata": {
    "ExecuteTime": {
     "end_time": "2023-03-23T20:01:49.150446Z",
     "start_time": "2023-03-23T20:01:49.134457Z"
    }
   },
   "outputs": [],
   "source": [
    "# return None\n",
    "factorial('spam spam spam spam spam spam')"
   ]
  },
  {
   "cell_type": "markdown",
   "id": "49ec1ad7",
   "metadata": {},
   "source": [
    "## Good Job Merli !! -> you remembered how to write the Factorial Function!"
   ]
  },
  {
   "cell_type": "markdown",
   "id": "0e743dcd",
   "metadata": {},
   "source": [
    "# Mentor Examples"
   ]
  },
  {
   "cell_type": "code",
   "execution_count": 17,
   "id": "4855417b",
   "metadata": {
    "ExecuteTime": {
     "end_time": "2023-03-23T20:14:40.852080Z",
     "start_time": "2023-03-23T20:14:40.846065Z"
    }
   },
   "outputs": [],
   "source": [
    "def factorial_example_1(num):\n",
    "    if type(num) is not int:\n",
    "        return None\n",
    "    if num < 0:\n",
    "        return None\n",
    "    if num == 0:\n",
    "        return 1\n",
    "    \n",
    "    i = 0\n",
    "    f = 1\n",
    "    while i < num:\n",
    "        i = i + 1\n",
    "        f = f * i\n",
    "        \n",
    "    return f"
   ]
  },
  {
   "cell_type": "code",
   "execution_count": 18,
   "id": "504bcb7c",
   "metadata": {
    "ExecuteTime": {
     "end_time": "2023-03-23T20:14:41.284282Z",
     "start_time": "2023-03-23T20:14:41.277322Z"
    }
   },
   "outputs": [],
   "source": [
    "def factorial_example_2(num):\n",
    "    if type(num) is not int:\n",
    "        return None\n",
    "    if num < 0:\n",
    "        return None\n",
    "    if num == 0:\n",
    "        return 1\n",
    "    \n",
    "    return num * factorial_example_2(num-1)"
   ]
  },
  {
   "cell_type": "code",
   "execution_count": 19,
   "id": "10a6f3e5",
   "metadata": {
    "ExecuteTime": {
     "end_time": "2023-03-23T20:14:41.749996Z",
     "start_time": "2023-03-23T20:14:41.734439Z"
    }
   },
   "outputs": [
    {
     "name": "stdout",
     "output_type": "stream",
     "text": [
      "120\n",
      "120\n",
      "720\n",
      "720\n",
      "1\n",
      "1\n",
      "None\n",
      "None\n"
     ]
    }
   ],
   "source": [
    "print(factorial_example_1(5))\n",
    "print(factorial_example_2(5))\n",
    "\n",
    "print(factorial_example_1(6))\n",
    "print(factorial_example_2(6))\n",
    "\n",
    "print(factorial_example_1(0))\n",
    "print(factorial_example_2(0))\n",
    "\n",
    "print(factorial_example_1(\"dasdsd\"))\n",
    "print(factorial_example_2(\"sdfcdf\"))"
   ]
  },
  {
   "cell_type": "code",
   "execution_count": null,
   "id": "9922626e",
   "metadata": {},
   "outputs": [],
   "source": []
  }
 ],
 "metadata": {
  "kernelspec": {
   "display_name": "Python 3 (ipykernel)",
   "language": "python",
   "name": "python3"
  },
  "language_info": {
   "codemirror_mode": {
    "name": "ipython",
    "version": 3
   },
   "file_extension": ".py",
   "mimetype": "text/x-python",
   "name": "python",
   "nbconvert_exporter": "python",
   "pygments_lexer": "ipython3",
   "version": "3.10.5"
  },
  "toc": {
   "base_numbering": 1,
   "nav_menu": {},
   "number_sections": true,
   "sideBar": true,
   "skip_h1_title": false,
   "title_cell": "Table of Contents",
   "title_sidebar": "Contents",
   "toc_cell": false,
   "toc_position": {},
   "toc_section_display": true,
   "toc_window_display": false
  }
 },
 "nbformat": 4,
 "nbformat_minor": 5
}
