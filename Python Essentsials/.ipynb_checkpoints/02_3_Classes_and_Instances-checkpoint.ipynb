{
 "cells": [
  {
   "cell_type": "markdown",
   "id": "b52a0f25",
   "metadata": {},
   "source": [
    "# Classes"
   ]
  },
  {
   "cell_type": "code",
   "execution_count": 11,
   "id": "48abca78",
   "metadata": {
    "ExecuteTime": {
     "end_time": "2023-03-23T19:45:10.912323Z",
     "start_time": "2023-03-23T19:45:10.897364Z"
    }
   },
   "outputs": [],
   "source": [
    "class Dog:\n",
    "    def __init__(self, name):\n",
    "        self.name = name\n",
    "        self.legs = 4\n",
    "        \n",
    "    def speak(self):  # method\n",
    "        print(self.name + \" says Bark!\")"
   ]
  },
  {
   "cell_type": "code",
   "execution_count": 7,
   "id": "3104b0c0",
   "metadata": {
    "ExecuteTime": {
     "end_time": "2023-03-23T19:44:16.781074Z",
     "start_time": "2023-03-23T19:44:16.768108Z"
    }
   },
   "outputs": [],
   "source": [
    "my_dog = Dog(\"Rover\")"
   ]
  },
  {
   "cell_type": "code",
   "execution_count": 8,
   "id": "77c30754",
   "metadata": {
    "ExecuteTime": {
     "end_time": "2023-03-23T19:44:24.740146Z",
     "start_time": "2023-03-23T19:44:24.728179Z"
    }
   },
   "outputs": [],
   "source": [
    "another_dog = Dog(\"Fluffy\")"
   ]
  },
  {
   "cell_type": "code",
   "execution_count": 9,
   "id": "3dc5ad1b",
   "metadata": {
    "ExecuteTime": {
     "end_time": "2023-03-23T19:44:26.530146Z",
     "start_time": "2023-03-23T19:44:26.512142Z"
    }
   },
   "outputs": [
    {
     "name": "stdout",
     "output_type": "stream",
     "text": [
      "Rover says Bark!\n"
     ]
    }
   ],
   "source": [
    "my_dog.speak()"
   ]
  },
  {
   "cell_type": "code",
   "execution_count": 10,
   "id": "8429a968",
   "metadata": {
    "ExecuteTime": {
     "end_time": "2023-03-23T19:44:26.905134Z",
     "start_time": "2023-03-23T19:44:26.896130Z"
    }
   },
   "outputs": [
    {
     "name": "stdout",
     "output_type": "stream",
     "text": [
      "Fluffy says Bark!\n"
     ]
    }
   ],
   "source": [
    "another_dog.speak()"
   ]
  },
  {
   "cell_type": "code",
   "execution_count": null,
   "id": "639e3c04",
   "metadata": {},
   "outputs": [],
   "source": []
  }
 ],
 "metadata": {
  "kernelspec": {
   "display_name": "Python 3 (ipykernel)",
   "language": "python",
   "name": "python3"
  },
  "language_info": {
   "codemirror_mode": {
    "name": "ipython",
    "version": 3
   },
   "file_extension": ".py",
   "mimetype": "text/x-python",
   "name": "python",
   "nbconvert_exporter": "python",
   "pygments_lexer": "ipython3",
   "version": "3.10.5"
  },
  "toc": {
   "base_numbering": 1,
   "nav_menu": {},
   "number_sections": true,
   "sideBar": true,
   "skip_h1_title": false,
   "title_cell": "Table of Contents",
   "title_sidebar": "Contents",
   "toc_cell": false,
   "toc_position": {},
   "toc_section_display": true,
   "toc_window_display": false
  }
 },
 "nbformat": 4,
 "nbformat_minor": 5
}
