{
 "cells": [
  {
   "cell_type": "markdown",
   "id": "f03b0f38",
   "metadata": {},
   "source": [
    "# Basic Data Types"
   ]
  },
  {
   "cell_type": "markdown",
   "id": "030bf240",
   "metadata": {},
   "source": [
    "## Defining a Variable"
   ]
  },
  {
   "cell_type": "code",
   "execution_count": 1,
   "id": "59d88884",
   "metadata": {
    "ExecuteTime": {
     "end_time": "2023-03-23T18:51:23.749078Z",
     "start_time": "2023-03-23T18:51:23.737107Z"
    }
   },
   "outputs": [],
   "source": [
    "x = 5"
   ]
  },
  {
   "cell_type": "code",
   "execution_count": 2,
   "id": "edc1a348",
   "metadata": {
    "ExecuteTime": {
     "end_time": "2023-03-23T18:51:42.405595Z",
     "start_time": "2023-03-23T18:51:42.397583Z"
    }
   },
   "outputs": [
    {
     "name": "stdout",
     "output_type": "stream",
     "text": [
      "5\n"
     ]
    }
   ],
   "source": [
    "print(x)"
   ]
  },
  {
   "cell_type": "code",
   "execution_count": 3,
   "id": "039b9364",
   "metadata": {
    "ExecuteTime": {
     "end_time": "2023-03-23T18:51:52.780961Z",
     "start_time": "2023-03-23T18:51:52.757025Z"
    }
   },
   "outputs": [
    {
     "data": {
      "text/plain": [
       "5"
      ]
     },
     "execution_count": 3,
     "metadata": {},
     "output_type": "execute_result"
    }
   ],
   "source": [
    "x"
   ]
  },
  {
   "cell_type": "markdown",
   "id": "be571ad9",
   "metadata": {},
   "source": [
    "- Variable starts with lowercase character"
   ]
  },
  {
   "cell_type": "code",
   "execution_count": 4,
   "id": "27686237",
   "metadata": {
    "ExecuteTime": {
     "end_time": "2023-03-23T18:53:11.684739Z",
     "start_time": "2023-03-23T18:53:11.676736Z"
    }
   },
   "outputs": [],
   "source": [
    "name = \"Merli\""
   ]
  },
  {
   "cell_type": "code",
   "execution_count": 5,
   "id": "b23612b6",
   "metadata": {
    "ExecuteTime": {
     "end_time": "2023-03-23T18:53:19.056751Z",
     "start_time": "2023-03-23T18:53:19.036805Z"
    }
   },
   "outputs": [
    {
     "data": {
      "text/plain": [
       "str"
      ]
     },
     "execution_count": 5,
     "metadata": {},
     "output_type": "execute_result"
    }
   ],
   "source": [
    "type(name)"
   ]
  },
  {
   "cell_type": "code",
   "execution_count": 6,
   "id": "dcb81b04",
   "metadata": {
    "ExecuteTime": {
     "end_time": "2023-03-23T18:53:29.103902Z",
     "start_time": "2023-03-23T18:53:29.084927Z"
    }
   },
   "outputs": [
    {
     "data": {
      "text/plain": [
       "int"
      ]
     },
     "execution_count": 6,
     "metadata": {},
     "output_type": "execute_result"
    }
   ],
   "source": [
    "type(x)"
   ]
  },
  {
   "cell_type": "markdown",
   "id": "80803db8",
   "metadata": {},
   "source": [
    "## Numbers"
   ]
  },
  {
   "cell_type": "code",
   "execution_count": 7,
   "id": "865d2b1c",
   "metadata": {
    "ExecuteTime": {
     "end_time": "2023-03-23T18:53:52.880437Z",
     "start_time": "2023-03-23T18:53:52.861488Z"
    }
   },
   "outputs": [
    {
     "data": {
      "text/plain": [
       "float"
      ]
     },
     "execution_count": 7,
     "metadata": {},
     "output_type": "execute_result"
    }
   ],
   "source": [
    "type(1.5)"
   ]
  },
  {
   "cell_type": "code",
   "execution_count": 8,
   "id": "e3d6d297",
   "metadata": {
    "ExecuteTime": {
     "end_time": "2023-03-23T18:54:43.471636Z",
     "start_time": "2023-03-23T18:54:43.453685Z"
    }
   },
   "outputs": [
    {
     "data": {
      "text/plain": [
       "1.564684546"
      ]
     },
     "execution_count": 8,
     "metadata": {},
     "output_type": "execute_result"
    }
   ],
   "source": [
    "1.564684546"
   ]
  },
  {
   "cell_type": "code",
   "execution_count": 9,
   "id": "224251a2",
   "metadata": {
    "ExecuteTime": {
     "end_time": "2023-03-23T18:54:49.115346Z",
     "start_time": "2023-03-23T18:54:49.101352Z"
    }
   },
   "outputs": [
    {
     "data": {
      "text/plain": [
       "4564156148.9"
      ]
     },
     "execution_count": 9,
     "metadata": {},
     "output_type": "execute_result"
    }
   ],
   "source": [
    "4564156148.9"
   ]
  },
  {
   "cell_type": "code",
   "execution_count": 10,
   "id": "e0460240",
   "metadata": {
    "ExecuteTime": {
     "end_time": "2023-03-23T18:55:01.426376Z",
     "start_time": "2023-03-23T18:55:01.421390Z"
    }
   },
   "outputs": [
    {
     "data": {
      "text/plain": [
       "complex"
      ]
     },
     "execution_count": 10,
     "metadata": {},
     "output_type": "execute_result"
    }
   ],
   "source": [
    "type(2j)"
   ]
  },
  {
   "cell_type": "code",
   "execution_count": 11,
   "id": "f116892e",
   "metadata": {
    "ExecuteTime": {
     "end_time": "2023-03-23T18:55:18.326734Z",
     "start_time": "2023-03-23T18:55:18.309796Z"
    }
   },
   "outputs": [
    {
     "data": {
      "text/plain": [
       "(-1+0j)"
      ]
     },
     "execution_count": 11,
     "metadata": {},
     "output_type": "execute_result"
    }
   ],
   "source": [
    "1j * 1j"
   ]
  },
  {
   "cell_type": "markdown",
   "id": "5ddb9372",
   "metadata": {},
   "source": [
    "## Strings"
   ]
  },
  {
   "cell_type": "code",
   "execution_count": 13,
   "id": "00added8",
   "metadata": {
    "ExecuteTime": {
     "end_time": "2023-03-23T18:55:57.033418Z",
     "start_time": "2023-03-23T18:55:57.021451Z"
    }
   },
   "outputs": [
    {
     "data": {
      "text/plain": [
       "'String 1 String 2'"
      ]
     },
     "execution_count": 13,
     "metadata": {},
     "output_type": "execute_result"
    }
   ],
   "source": [
    "'String 1 ' + 'String 2'"
   ]
  },
  {
   "cell_type": "code",
   "execution_count": 14,
   "id": "21ddb155",
   "metadata": {
    "ExecuteTime": {
     "end_time": "2023-03-23T18:56:18.867617Z",
     "start_time": "2023-03-23T18:56:18.861604Z"
    }
   },
   "outputs": [
    {
     "data": {
      "text/plain": [
       "'11'"
      ]
     },
     "execution_count": 14,
     "metadata": {},
     "output_type": "execute_result"
    }
   ],
   "source": [
    "'1' + '1'"
   ]
  },
  {
   "cell_type": "markdown",
   "id": "dc19ff7a",
   "metadata": {},
   "source": [
    "## Booleans"
   ]
  },
  {
   "cell_type": "code",
   "execution_count": 15,
   "id": "20203433",
   "metadata": {
    "ExecuteTime": {
     "end_time": "2023-03-23T18:56:37.951145Z",
     "start_time": "2023-03-23T18:56:37.933187Z"
    }
   },
   "outputs": [
    {
     "data": {
      "text/plain": [
       "True"
      ]
     },
     "execution_count": 15,
     "metadata": {},
     "output_type": "execute_result"
    }
   ],
   "source": [
    "True"
   ]
  },
  {
   "cell_type": "code",
   "execution_count": 16,
   "id": "d3bc599b",
   "metadata": {
    "ExecuteTime": {
     "end_time": "2023-03-23T18:56:40.184179Z",
     "start_time": "2023-03-23T18:56:40.173178Z"
    }
   },
   "outputs": [
    {
     "data": {
      "text/plain": [
       "False"
      ]
     },
     "execution_count": 16,
     "metadata": {},
     "output_type": "execute_result"
    }
   ],
   "source": [
    "False"
   ]
  },
  {
   "cell_type": "code",
   "execution_count": 18,
   "id": "8728a4d8",
   "metadata": {
    "ExecuteTime": {
     "end_time": "2023-03-23T18:56:51.889358Z",
     "start_time": "2023-03-23T18:56:51.877391Z"
    }
   },
   "outputs": [],
   "source": [
    "true = True"
   ]
  },
  {
   "cell_type": "code",
   "execution_count": 19,
   "id": "c3cb6735",
   "metadata": {
    "ExecuteTime": {
     "end_time": "2023-03-23T18:57:13.372420Z",
     "start_time": "2023-03-23T18:57:13.365410Z"
    }
   },
   "outputs": [
    {
     "data": {
      "text/plain": [
       "True"
      ]
     },
     "execution_count": 19,
     "metadata": {},
     "output_type": "execute_result"
    }
   ],
   "source": [
    "1 == 1"
   ]
  },
  {
   "cell_type": "code",
   "execution_count": 20,
   "id": "2e8bce3c",
   "metadata": {
    "ExecuteTime": {
     "end_time": "2023-03-23T18:57:19.812192Z",
     "start_time": "2023-03-23T18:57:19.797198Z"
    }
   },
   "outputs": [
    {
     "data": {
      "text/plain": [
       "False"
      ]
     },
     "execution_count": 20,
     "metadata": {},
     "output_type": "execute_result"
    }
   ],
   "source": [
    "1 == 2"
   ]
  },
  {
   "cell_type": "markdown",
   "id": "a9bce256",
   "metadata": {},
   "source": [
    "# Data Structures"
   ]
  },
  {
   "cell_type": "markdown",
   "id": "e794be2d",
   "metadata": {},
   "source": [
    "## Lists"
   ]
  },
  {
   "cell_type": "code",
   "execution_count": 21,
   "id": "8d423cbe",
   "metadata": {
    "ExecuteTime": {
     "end_time": "2023-03-23T18:59:22.963864Z",
     "start_time": "2023-03-23T18:59:22.956876Z"
    }
   },
   "outputs": [
    {
     "data": {
      "text/plain": [
       "[1, 2, 3, 4, 5]"
      ]
     },
     "execution_count": 21,
     "metadata": {},
     "output_type": "execute_result"
    }
   ],
   "source": [
    "my_list = [1,2,3,4,5]\n",
    "my_list"
   ]
  },
  {
   "cell_type": "code",
   "execution_count": 22,
   "id": "21bc51ca",
   "metadata": {
    "ExecuteTime": {
     "end_time": "2023-03-23T19:00:01.126946Z",
     "start_time": "2023-03-23T19:00:01.108962Z"
    }
   },
   "outputs": [],
   "source": [
    "my_list = [\"list\", \"of\", \"strings\"]"
   ]
  },
  {
   "cell_type": "code",
   "execution_count": 24,
   "id": "f14b1fe3",
   "metadata": {
    "ExecuteTime": {
     "end_time": "2023-03-23T19:00:36.763253Z",
     "start_time": "2023-03-23T19:00:36.749294Z"
    }
   },
   "outputs": [],
   "source": [
    "my_list = [1, \"list\", False, []]"
   ]
  },
  {
   "cell_type": "code",
   "execution_count": 26,
   "id": "6af4dea1",
   "metadata": {
    "ExecuteTime": {
     "end_time": "2023-03-23T19:01:19.156613Z",
     "start_time": "2023-03-23T19:01:19.148700Z"
    }
   },
   "outputs": [],
   "source": [
    "my_list = [[], 'list', False, []]"
   ]
  },
  {
   "cell_type": "code",
   "execution_count": 27,
   "id": "eb64e56e",
   "metadata": {
    "ExecuteTime": {
     "end_time": "2023-03-23T19:01:54.746781Z",
     "start_time": "2023-03-23T19:01:54.740797Z"
    }
   },
   "outputs": [],
   "source": [
    "my_list = [[1,2,3], [False, True], []]"
   ]
  },
  {
   "cell_type": "code",
   "execution_count": 28,
   "id": "3edf836f",
   "metadata": {
    "ExecuteTime": {
     "end_time": "2023-03-23T19:02:00.365655Z",
     "start_time": "2023-03-23T19:02:00.348702Z"
    }
   },
   "outputs": [
    {
     "data": {
      "text/plain": [
       "3"
      ]
     },
     "execution_count": 28,
     "metadata": {},
     "output_type": "execute_result"
    }
   ],
   "source": [
    "len(my_list)"
   ]
  },
  {
   "cell_type": "markdown",
   "id": "52c5085a",
   "metadata": {},
   "source": [
    "## Sets\n",
    "\n",
    "- every element has to be unique\n",
    "- order of elements in list has to be very important > in sets the order doesn't matter"
   ]
  },
  {
   "cell_type": "code",
   "execution_count": 29,
   "id": "844d0c7e",
   "metadata": {
    "ExecuteTime": {
     "end_time": "2023-03-23T19:03:04.452869Z",
     "start_time": "2023-03-23T19:03:04.436889Z"
    }
   },
   "outputs": [
    {
     "data": {
      "text/plain": [
       "{1, 2, 3, 4, 5}"
      ]
     },
     "execution_count": 29,
     "metadata": {},
     "output_type": "execute_result"
    }
   ],
   "source": [
    "my_set = {1,2,3,4,5}\n",
    "my_set"
   ]
  },
  {
   "cell_type": "code",
   "execution_count": 30,
   "id": "444057ec",
   "metadata": {
    "ExecuteTime": {
     "end_time": "2023-03-23T19:03:19.239636Z",
     "start_time": "2023-03-23T19:03:19.220688Z"
    }
   },
   "outputs": [
    {
     "data": {
      "text/plain": [
       "set"
      ]
     },
     "execution_count": 30,
     "metadata": {},
     "output_type": "execute_result"
    }
   ],
   "source": [
    "type(my_set)"
   ]
  },
  {
   "cell_type": "code",
   "execution_count": 31,
   "id": "7b0528ac",
   "metadata": {
    "ExecuteTime": {
     "end_time": "2023-03-23T19:03:28.247116Z",
     "start_time": "2023-03-23T19:03:28.236114Z"
    }
   },
   "outputs": [
    {
     "data": {
      "text/plain": [
       "5"
      ]
     },
     "execution_count": 31,
     "metadata": {},
     "output_type": "execute_result"
    }
   ],
   "source": [
    "len(my_set)"
   ]
  },
  {
   "cell_type": "code",
   "execution_count": 34,
   "id": "7e8c05b0",
   "metadata": {
    "ExecuteTime": {
     "end_time": "2023-03-23T19:04:28.407255Z",
     "start_time": "2023-03-23T19:04:28.397248Z"
    }
   },
   "outputs": [
    {
     "data": {
      "text/plain": [
       "2"
      ]
     },
     "execution_count": 34,
     "metadata": {},
     "output_type": "execute_result"
    }
   ],
   "source": [
    "my_set = {1,1,2,2}\n",
    "len(my_set)"
   ]
  },
  {
   "cell_type": "code",
   "execution_count": 35,
   "id": "cb2ce99e",
   "metadata": {
    "ExecuteTime": {
     "end_time": "2023-03-23T19:04:39.762902Z",
     "start_time": "2023-03-23T19:04:39.756951Z"
    }
   },
   "outputs": [
    {
     "data": {
      "text/plain": [
       "{1, 2}"
      ]
     },
     "execution_count": 35,
     "metadata": {},
     "output_type": "execute_result"
    }
   ],
   "source": [
    "my_set"
   ]
  },
  {
   "cell_type": "code",
   "execution_count": 36,
   "id": "1ee84b42",
   "metadata": {
    "ExecuteTime": {
     "end_time": "2023-03-23T19:07:18.052472Z",
     "start_time": "2023-03-23T19:07:18.036483Z"
    }
   },
   "outputs": [
    {
     "data": {
      "text/plain": [
       "False"
      ]
     },
     "execution_count": 36,
     "metadata": {},
     "output_type": "execute_result"
    }
   ],
   "source": [
    "[1,2] == [2,1]"
   ]
  },
  {
   "cell_type": "code",
   "execution_count": 37,
   "id": "1557e8a0",
   "metadata": {
    "ExecuteTime": {
     "end_time": "2023-03-23T19:07:46.633797Z",
     "start_time": "2023-03-23T19:07:46.620827Z"
    }
   },
   "outputs": [
    {
     "data": {
      "text/plain": [
       "True"
      ]
     },
     "execution_count": 37,
     "metadata": {},
     "output_type": "execute_result"
    }
   ],
   "source": [
    "{1,2} == {2,1}"
   ]
  },
  {
   "cell_type": "markdown",
   "id": "cc9078b3",
   "metadata": {},
   "source": [
    "## Tuples\n",
    "\n",
    "- the order in tuples is important\n",
    "- you cannot add or append elements in tuples"
   ]
  },
  {
   "cell_type": "markdown",
   "id": "afe79d7b",
   "metadata": {},
   "source": [
    "### Why Use Tuples?\n",
    "\n",
    "- They are memeory efficient\n",
    "- Good for storing lots of little things, like x, y coordinates"
   ]
  },
  {
   "cell_type": "code",
   "execution_count": 38,
   "id": "f94317f0",
   "metadata": {
    "ExecuteTime": {
     "end_time": "2023-03-23T19:08:55.863216Z",
     "start_time": "2023-03-23T19:08:55.844235Z"
    }
   },
   "outputs": [],
   "source": [
    "my_tuples = (1,2,3)"
   ]
  },
  {
   "cell_type": "code",
   "execution_count": 39,
   "id": "3b232371",
   "metadata": {
    "ExecuteTime": {
     "end_time": "2023-03-23T19:09:14.703066Z",
     "start_time": "2023-03-23T19:09:14.684615Z"
    }
   },
   "outputs": [
    {
     "data": {
      "text/plain": [
       "3"
      ]
     },
     "execution_count": 39,
     "metadata": {},
     "output_type": "execute_result"
    }
   ],
   "source": [
    "len(my_tuples)"
   ]
  },
  {
   "cell_type": "code",
   "execution_count": 40,
   "id": "327a68e6",
   "metadata": {
    "ExecuteTime": {
     "end_time": "2023-03-23T19:09:29.517105Z",
     "start_time": "2023-03-23T19:09:29.500107Z"
    }
   },
   "outputs": [
    {
     "data": {
      "text/plain": [
       "False"
      ]
     },
     "execution_count": 40,
     "metadata": {},
     "output_type": "execute_result"
    }
   ],
   "source": [
    "(1,2) == (2,1)"
   ]
  },
  {
   "cell_type": "code",
   "execution_count": 41,
   "id": "29a2b8b5",
   "metadata": {
    "ExecuteTime": {
     "end_time": "2023-03-23T19:10:52.674966Z",
     "start_time": "2023-03-23T19:10:52.659971Z"
    }
   },
   "outputs": [
    {
     "data": {
      "text/plain": [
       "[[1, 2, 3], [False, True], [], 6]"
      ]
     },
     "execution_count": 41,
     "metadata": {},
     "output_type": "execute_result"
    }
   ],
   "source": [
    "my_list.append(6)\n",
    "my_list"
   ]
  },
  {
   "cell_type": "code",
   "execution_count": 42,
   "id": "69dcb7e5",
   "metadata": {
    "ExecuteTime": {
     "end_time": "2023-03-23T19:11:05.676877Z",
     "start_time": "2023-03-23T19:11:05.251891Z"
    }
   },
   "outputs": [
    {
     "ename": "AttributeError",
     "evalue": "'tuple' object has no attribute 'append'",
     "output_type": "error",
     "traceback": [
      "\u001b[1;31m---------------------------------------------------------------------------\u001b[0m",
      "\u001b[1;31mAttributeError\u001b[0m                            Traceback (most recent call last)",
      "Input \u001b[1;32mIn [42]\u001b[0m, in \u001b[0;36m<cell line: 1>\u001b[1;34m()\u001b[0m\n\u001b[1;32m----> 1\u001b[0m \u001b[43mmy_tuples\u001b[49m\u001b[38;5;241;43m.\u001b[39;49m\u001b[43mappend\u001b[49m(\u001b[38;5;241m65\u001b[39m)\n",
      "\u001b[1;31mAttributeError\u001b[0m: 'tuple' object has no attribute 'append'"
     ]
    }
   ],
   "source": [
    "my_tuples.append(65)"
   ]
  },
  {
   "cell_type": "markdown",
   "id": "8c008c20",
   "metadata": {},
   "source": [
    "## Dictionaries\n",
    "\n",
    "- key: value\n",
    "- the keys in dictionaries have to be unique"
   ]
  },
  {
   "cell_type": "code",
   "execution_count": 43,
   "id": "39ef9902",
   "metadata": {
    "ExecuteTime": {
     "end_time": "2023-03-23T19:14:15.520777Z",
     "start_time": "2023-03-23T19:14:15.507813Z"
    }
   },
   "outputs": [],
   "source": [
    "my_dictionaries = {\n",
    "    \"apple\": \"A red fruit\",\n",
    "    \"bear\": \"A scary animal\"\n",
    "}"
   ]
  },
  {
   "cell_type": "code",
   "execution_count": 44,
   "id": "87eccb5a",
   "metadata": {
    "ExecuteTime": {
     "end_time": "2023-03-23T19:14:25.975022Z",
     "start_time": "2023-03-23T19:14:25.956108Z"
    }
   },
   "outputs": [
    {
     "data": {
      "text/plain": [
       "'A red fruit'"
      ]
     },
     "execution_count": 44,
     "metadata": {},
     "output_type": "execute_result"
    }
   ],
   "source": [
    "my_dictionaries['apple']"
   ]
  },
  {
   "cell_type": "markdown",
   "id": "fef678fe",
   "metadata": {},
   "source": [
    "## Sets and Dictionaries\n",
    "\n",
    "- Both are defined with curly brackets\n",
    "- Sets have unique values, dictionaries have unique keys\n",
    "- The order doesn't matter"
   ]
  },
  {
   "cell_type": "markdown",
   "id": "2f505a31",
   "metadata": {},
   "source": [
    "# Operators\n",
    "## Arithmetic Operators"
   ]
  },
  {
   "cell_type": "code",
   "execution_count": 1,
   "id": "68a1e396",
   "metadata": {
    "ExecuteTime": {
     "end_time": "2023-03-23T19:19:06.287202Z",
     "start_time": "2023-03-23T19:19:06.271238Z"
    }
   },
   "outputs": [
    {
     "data": {
      "text/plain": [
       "2"
      ]
     },
     "execution_count": 1,
     "metadata": {},
     "output_type": "execute_result"
    }
   ],
   "source": [
    "1 + 1 "
   ]
  },
  {
   "cell_type": "code",
   "execution_count": 2,
   "id": "d682e3fe",
   "metadata": {
    "ExecuteTime": {
     "end_time": "2023-03-23T19:19:15.747481Z",
     "start_time": "2023-03-23T19:19:15.732483Z"
    }
   },
   "outputs": [
    {
     "data": {
      "text/plain": [
       "12"
      ]
     },
     "execution_count": 2,
     "metadata": {},
     "output_type": "execute_result"
    }
   ],
   "source": [
    "4 * 3"
   ]
  },
  {
   "cell_type": "code",
   "execution_count": 3,
   "id": "094c8266",
   "metadata": {
    "ExecuteTime": {
     "end_time": "2023-03-23T19:19:24.346424Z",
     "start_time": "2023-03-23T19:19:24.332425Z"
    }
   },
   "outputs": [
    {
     "data": {
      "text/plain": [
       "25"
      ]
     },
     "execution_count": 3,
     "metadata": {},
     "output_type": "execute_result"
    }
   ],
   "source": [
    "5 ** 2"
   ]
  },
  {
   "cell_type": "code",
   "execution_count": 4,
   "id": "63691628",
   "metadata": {
    "ExecuteTime": {
     "end_time": "2023-03-23T19:19:31.195510Z",
     "start_time": "2023-03-23T19:19:31.180545Z"
    }
   },
   "outputs": [
    {
     "data": {
      "text/plain": [
       "4.0"
      ]
     },
     "execution_count": 4,
     "metadata": {},
     "output_type": "execute_result"
    }
   ],
   "source": [
    "20 / 5"
   ]
  },
  {
   "cell_type": "code",
   "execution_count": 5,
   "id": "8e072d96",
   "metadata": {
    "ExecuteTime": {
     "end_time": "2023-03-23T19:19:52.148942Z",
     "start_time": "2023-03-23T19:19:52.131981Z"
    }
   },
   "outputs": [
    {
     "data": {
      "text/plain": [
       "3.3333333333333335"
      ]
     },
     "execution_count": 5,
     "metadata": {},
     "output_type": "execute_result"
    }
   ],
   "source": [
    "20 / 6"
   ]
  },
  {
   "cell_type": "code",
   "execution_count": 6,
   "id": "b0edf71a",
   "metadata": {
    "ExecuteTime": {
     "end_time": "2023-03-23T19:19:55.459080Z",
     "start_time": "2023-03-23T19:19:55.444148Z"
    }
   },
   "outputs": [
    {
     "data": {
      "text/plain": [
       "3"
      ]
     },
     "execution_count": 6,
     "metadata": {},
     "output_type": "execute_result"
    }
   ],
   "source": [
    "20 // 6"
   ]
  },
  {
   "cell_type": "code",
   "execution_count": 7,
   "id": "b4a0d65d",
   "metadata": {
    "ExecuteTime": {
     "end_time": "2023-03-23T19:20:08.049515Z",
     "start_time": "2023-03-23T19:20:08.044528Z"
    }
   },
   "outputs": [
    {
     "data": {
      "text/plain": [
       "2"
      ]
     },
     "execution_count": 7,
     "metadata": {},
     "output_type": "execute_result"
    }
   ],
   "source": [
    "20 % 6"
   ]
  },
  {
   "cell_type": "markdown",
   "id": "5aa0c05f",
   "metadata": {},
   "source": [
    "### Arithmetic Operators with Strings"
   ]
  },
  {
   "cell_type": "code",
   "execution_count": 9,
   "id": "cf132c36",
   "metadata": {
    "ExecuteTime": {
     "end_time": "2023-03-23T19:21:30.581954Z",
     "start_time": "2023-03-23T19:21:30.572014Z"
    }
   },
   "outputs": [
    {
     "data": {
      "text/plain": [
       "'string 1 string 2'"
      ]
     },
     "execution_count": 9,
     "metadata": {},
     "output_type": "execute_result"
    }
   ],
   "source": [
    "'string 1 ' + 'string 2'"
   ]
  },
  {
   "cell_type": "code",
   "execution_count": 11,
   "id": "67da7fff",
   "metadata": {
    "ExecuteTime": {
     "end_time": "2023-03-23T19:21:58.700784Z",
     "start_time": "2023-03-23T19:21:58.691808Z"
    }
   },
   "outputs": [
    {
     "data": {
      "text/plain": [
       "'-string1--string1--string1--string1--string1-'"
      ]
     },
     "execution_count": 11,
     "metadata": {},
     "output_type": "execute_result"
    }
   ],
   "source": [
    "'-string1-' * 5"
   ]
  },
  {
   "cell_type": "markdown",
   "id": "70ddfea5",
   "metadata": {},
   "source": [
    "## Comparison, Logical, and Memdership Operators\n",
    "### Comparison Operators"
   ]
  },
  {
   "cell_type": "code",
   "execution_count": 12,
   "id": "171275be",
   "metadata": {
    "ExecuteTime": {
     "end_time": "2023-03-23T19:23:42.510366Z",
     "start_time": "2023-03-23T19:23:42.492414Z"
    }
   },
   "outputs": [
    {
     "data": {
      "text/plain": [
       "True"
      ]
     },
     "execution_count": 12,
     "metadata": {},
     "output_type": "execute_result"
    }
   ],
   "source": [
    "True == True"
   ]
  },
  {
   "cell_type": "code",
   "execution_count": 13,
   "id": "7cc9059c",
   "metadata": {
    "ExecuteTime": {
     "end_time": "2023-03-23T19:23:50.907803Z",
     "start_time": "2023-03-23T19:23:50.899845Z"
    }
   },
   "outputs": [
    {
     "data": {
      "text/plain": [
       "True"
      ]
     },
     "execution_count": 13,
     "metadata": {},
     "output_type": "execute_result"
    }
   ],
   "source": [
    "4 < 5"
   ]
  },
  {
   "cell_type": "code",
   "execution_count": 14,
   "id": "981e3769",
   "metadata": {
    "ExecuteTime": {
     "end_time": "2023-03-23T19:23:58.739172Z",
     "start_time": "2023-03-23T19:23:58.732194Z"
    }
   },
   "outputs": [
    {
     "data": {
      "text/plain": [
       "True"
      ]
     },
     "execution_count": 14,
     "metadata": {},
     "output_type": "execute_result"
    }
   ],
   "source": [
    "4 <= 5"
   ]
  },
  {
   "cell_type": "code",
   "execution_count": 15,
   "id": "606157db",
   "metadata": {
    "ExecuteTime": {
     "end_time": "2023-03-23T19:24:05.290917Z",
     "start_time": "2023-03-23T19:24:05.274925Z"
    }
   },
   "outputs": [
    {
     "data": {
      "text/plain": [
       "True"
      ]
     },
     "execution_count": 15,
     "metadata": {},
     "output_type": "execute_result"
    }
   ],
   "source": [
    "5 > 2"
   ]
  },
  {
   "cell_type": "code",
   "execution_count": 16,
   "id": "9541111c",
   "metadata": {
    "ExecuteTime": {
     "end_time": "2023-03-23T19:24:17.018623Z",
     "start_time": "2023-03-23T19:24:17.003663Z"
    }
   },
   "outputs": [
    {
     "data": {
      "text/plain": [
       "False"
      ]
     },
     "execution_count": 16,
     "metadata": {},
     "output_type": "execute_result"
    }
   ],
   "source": [
    "2 >= 5"
   ]
  },
  {
   "cell_type": "markdown",
   "id": "fbe10e54",
   "metadata": {},
   "source": [
    "### Logical Operators"
   ]
  },
  {
   "cell_type": "code",
   "execution_count": 17,
   "id": "ab86eb6f",
   "metadata": {
    "ExecuteTime": {
     "end_time": "2023-03-23T19:24:36.265517Z",
     "start_time": "2023-03-23T19:24:36.259502Z"
    }
   },
   "outputs": [
    {
     "data": {
      "text/plain": [
       "True"
      ]
     },
     "execution_count": 17,
     "metadata": {},
     "output_type": "execute_result"
    }
   ],
   "source": [
    "True and True"
   ]
  },
  {
   "cell_type": "code",
   "execution_count": 18,
   "id": "b6c703a0",
   "metadata": {
    "ExecuteTime": {
     "end_time": "2023-03-23T19:24:40.684647Z",
     "start_time": "2023-03-23T19:24:40.667686Z"
    }
   },
   "outputs": [
    {
     "data": {
      "text/plain": [
       "False"
      ]
     },
     "execution_count": 18,
     "metadata": {},
     "output_type": "execute_result"
    }
   ],
   "source": [
    "True and False"
   ]
  },
  {
   "cell_type": "code",
   "execution_count": 19,
   "id": "68420cd5",
   "metadata": {
    "ExecuteTime": {
     "end_time": "2023-03-23T19:24:52.229950Z",
     "start_time": "2023-03-23T19:24:52.211993Z"
    }
   },
   "outputs": [
    {
     "data": {
      "text/plain": [
       "True"
      ]
     },
     "execution_count": 19,
     "metadata": {},
     "output_type": "execute_result"
    }
   ],
   "source": [
    "True or False"
   ]
  },
  {
   "cell_type": "code",
   "execution_count": 21,
   "id": "92bd438c",
   "metadata": {
    "ExecuteTime": {
     "end_time": "2023-03-23T19:25:11.767267Z",
     "start_time": "2023-03-23T19:25:11.757324Z"
    }
   },
   "outputs": [
    {
     "data": {
      "text/plain": [
       "False"
      ]
     },
     "execution_count": 21,
     "metadata": {},
     "output_type": "execute_result"
    }
   ],
   "source": [
    "False or False"
   ]
  },
  {
   "cell_type": "code",
   "execution_count": 22,
   "id": "01b7bc47",
   "metadata": {
    "ExecuteTime": {
     "end_time": "2023-03-23T19:25:23.599561Z",
     "start_time": "2023-03-23T19:25:23.579649Z"
    }
   },
   "outputs": [
    {
     "data": {
      "text/plain": [
       "False"
      ]
     },
     "execution_count": 22,
     "metadata": {},
     "output_type": "execute_result"
    }
   ],
   "source": [
    "not True"
   ]
  },
  {
   "cell_type": "code",
   "execution_count": 23,
   "id": "4b2e9a7f",
   "metadata": {
    "ExecuteTime": {
     "end_time": "2023-03-23T19:25:27.252854Z",
     "start_time": "2023-03-23T19:25:27.235866Z"
    }
   },
   "outputs": [
    {
     "data": {
      "text/plain": [
       "True"
      ]
     },
     "execution_count": 23,
     "metadata": {},
     "output_type": "execute_result"
    }
   ],
   "source": [
    "not False"
   ]
  },
  {
   "cell_type": "markdown",
   "id": "15608203",
   "metadata": {},
   "source": [
    "### Membership Operators"
   ]
  },
  {
   "cell_type": "code",
   "execution_count": 24,
   "id": "bbb10d9e",
   "metadata": {
    "ExecuteTime": {
     "end_time": "2023-03-23T19:25:49.991464Z",
     "start_time": "2023-03-23T19:25:49.971486Z"
    }
   },
   "outputs": [
    {
     "data": {
      "text/plain": [
       "True"
      ]
     },
     "execution_count": 24,
     "metadata": {},
     "output_type": "execute_result"
    }
   ],
   "source": [
    "1 in [1,2,3,4,5]"
   ]
  },
  {
   "cell_type": "code",
   "execution_count": 25,
   "id": "b7c388c0",
   "metadata": {
    "ExecuteTime": {
     "end_time": "2023-03-23T19:26:03.357994Z",
     "start_time": "2023-03-23T19:26:03.348021Z"
    }
   },
   "outputs": [
    {
     "data": {
      "text/plain": [
       "True"
      ]
     },
     "execution_count": 25,
     "metadata": {},
     "output_type": "execute_result"
    }
   ],
   "source": [
    "10 not in [1,2,3,4,5,6]"
   ]
  },
  {
   "cell_type": "code",
   "execution_count": 26,
   "id": "af4a4b2a",
   "metadata": {
    "ExecuteTime": {
     "end_time": "2023-03-23T19:26:18.925419Z",
     "start_time": "2023-03-23T19:26:18.915413Z"
    }
   },
   "outputs": [
    {
     "data": {
      "text/plain": [
       "False"
      ]
     },
     "execution_count": 26,
     "metadata": {},
     "output_type": "execute_result"
    }
   ],
   "source": [
    "\"cat\" not in \"my pet is cat\""
   ]
  },
  {
   "cell_type": "code",
   "execution_count": null,
   "id": "7ae4735a",
   "metadata": {},
   "outputs": [],
   "source": []
  }
 ],
 "metadata": {
  "kernelspec": {
   "display_name": "Python 3 (ipykernel)",
   "language": "python",
   "name": "python3"
  },
  "language_info": {
   "codemirror_mode": {
    "name": "ipython",
    "version": 3
   },
   "file_extension": ".py",
   "mimetype": "text/x-python",
   "name": "python",
   "nbconvert_exporter": "python",
   "pygments_lexer": "ipython3",
   "version": "3.10.5"
  },
  "toc": {
   "base_numbering": 1,
   "nav_menu": {},
   "number_sections": true,
   "sideBar": true,
   "skip_h1_title": false,
   "title_cell": "Table of Contents",
   "title_sidebar": "Contents",
   "toc_cell": false,
   "toc_position": {},
   "toc_section_display": true,
   "toc_window_display": false
  }
 },
 "nbformat": 4,
 "nbformat_minor": 5
}
